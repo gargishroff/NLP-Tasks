{
  "nbformat": 4,
  "nbformat_minor": 0,
  "metadata": {
    "colab": {
      "provenance": []
    },
    "kernelspec": {
      "name": "python3",
      "display_name": "Python 3"
    },
    "language_info": {
      "name": "python"
    },
    "accelerator": "TPU"
  },
  "cells": [
    {
      "cell_type": "code",
      "source": [
        "import torch\n",
        "from torch import nn,optim\n",
        "from torch.utils.data import TensorDataset, DataLoader\n",
        "from sklearn.metrics import precision_recall_fscore_support,confusion_matrix\n",
        "import re\n",
        "import argparse\n",
        "import numpy as np"
      ],
      "metadata": {
        "id": "stnJGQsNcqDf"
      },
      "execution_count": null,
      "outputs": []
    },
    {
      "cell_type": "code",
      "source": [
        "def parse_file (path):\n",
        "# Returns a list which containings tokenized sentences with respective POS tags for the words\n",
        "# Format - [[[words of sentence i],[POS tags for the words in sentence i]],...]\n",
        "    data = []\n",
        "    with open (path, 'r', encoding='utf-8') as file:\n",
        "        words = []\n",
        "        tags = []\n",
        "        for line in file:\n",
        "            line = line.strip()                   # Removing the leading and trailing Blankspaces.\n",
        "            if line and line[0].isdigit():\n",
        "                parts = line.split(\"\\t\")\n",
        "                if parts[0] == '1' and len(words) != 0:\n",
        "                    sentence_data = [words, tags]\n",
        "                    data.append(sentence_data)\n",
        "                    words = [parts[1]]\n",
        "                    tags = [parts[3]]\n",
        "                else :\n",
        "                    words.append(parts[1])\n",
        "                    tags.append(parts[3])\n",
        "    return data"
      ],
      "metadata": {
        "id": "NPneobX-ctV_"
      },
      "execution_count": null,
      "outputs": []
    },
    {
      "cell_type": "code",
      "source": [
        "dev_data = parse_file(\"en_atis-ud-dev.conllu\")\n",
        "train_data = parse_file(\"en_atis-ud-train.conllu\")\n",
        "test_data = parse_file(\"en_atis-ud-test.conllu\")"
      ],
      "metadata": {
        "id": "RpODYy4Wcx8c"
      },
      "execution_count": null,
      "outputs": []
    },
    {
      "cell_type": "code",
      "source": [
        "# Creating a word index and tag index dictionary\n",
        "def get_index_dict (data):\n",
        "    k = 0\n",
        "    j = 0\n",
        "    vocab = {}\n",
        "    tags = {}\n",
        "    for sentence in data:\n",
        "        for i in range (0,len(sentence[0])):\n",
        "            if sentence[0][i] not in vocab:\n",
        "                vocab[sentence[0][i]] = k\n",
        "                k += 1\n",
        "            if sentence[1][i] not in tags:\n",
        "                tags[sentence[1][i]] = j\n",
        "                j += 1\n",
        "    vocab['<unk>'] = k\n",
        "    vocab['<s>'] = k+1\n",
        "    vocab['<\\s>'] = k+2\n",
        "    vocab['<pad>'] = k+3\n",
        "\n",
        "    tags['START'] = j\n",
        "    tags['END'] = j+1\n",
        "    tags['<pad>'] = j+2\n",
        "\n",
        "    idx_tags = {}\n",
        "    for tag in tags:\n",
        "        idx_tags[tags[tag]] = tag\n",
        "\n",
        "    return vocab,tags,idx_tags\n",
        "\n",
        "vocab,tags,idx_tags = get_index_dict(train_data)"
      ],
      "metadata": {
        "id": "PNZjs_a2c1uZ"
      },
      "execution_count": null,
      "outputs": []
    },
    {
      "cell_type": "code",
      "source": [
        "# Adding few unknow values to training data\n",
        "def handling_unknowns (train):\n",
        "    flag = 0\n",
        "    for sent_d in train:\n",
        "        if flag % 25 == 0:\n",
        "            rand_int = np.random.randint(0, len(sent_d[0]))\n",
        "            train[flag][0][rand_int] = 'unk'                       # 'unk' is not a part of vocab\n",
        "        flag += 1\n",
        "\n",
        "    return train\n",
        "\n",
        "train_data = handling_unknowns(train_data)"
      ],
      "metadata": {
        "id": "WVrt431Qc2jl"
      },
      "execution_count": null,
      "outputs": []
    },
    {
      "cell_type": "code",
      "source": [
        "def remove_punctuation(sentence):\n",
        "    punctuation_pattern = r'[^\\w\\s]'\n",
        "    sentence_without_punctuation = re.sub(punctuation_pattern, '', sentence)\n",
        "    return sentence_without_punctuation"
      ],
      "metadata": {
        "id": "66uLogp-KgUb"
      },
      "execution_count": null,
      "outputs": []
    },
    {
      "cell_type": "markdown",
      "source": [
        "FEED FORWARD NEURAL NETWORK"
      ],
      "metadata": {
        "id": "yI7i-CXmdobD"
      }
    },
    {
      "cell_type": "code",
      "source": [
        "# Preparing the Training Data\n",
        "def preparing_data (vocab,tags,data,p,s):\n",
        "    X = []\n",
        "    Y = []\n",
        "    start = ['<s>']*p\n",
        "    end = ['<\\s>']*s\n",
        "    start_tags = ['START']*p\n",
        "    end_tags = ['END']*s\n",
        "    for sentence_data in data:\n",
        "        sentence_data[0] = start + sentence_data[0] + end\n",
        "        sentence_data[1] = start_tags + sentence_data[1] + end_tags\n",
        "\n",
        "        word2idx = []\n",
        "        tag2idx = []\n",
        "        for i in range (0,len(sentence_data[0])):\n",
        "            if sentence_data[1][i] in tags:\n",
        "                tag2idx.append(tags[sentence_data[1][i]])\n",
        "                if sentence_data[0][i] in vocab:\n",
        "                    word2idx.append(vocab[sentence_data[0][i]])\n",
        "                else :\n",
        "                    word2idx.append(vocab['<unk>'])\n",
        "\n",
        "        for i in range(0,len(word2idx)-s-p):\n",
        "            word_window = word2idx[i:(p+s+1+i)]\n",
        "            X.append(word_window)\n",
        "            y_vect = []\n",
        "            for j in range(0,p+s+1):\n",
        "                y = [float(0)]*len(tags)\n",
        "                y[tag2idx[i+j]] = float(1)\n",
        "                y_vect.append(y)\n",
        "            Y.append(y_vect)\n",
        "\n",
        "    ipt = torch.tensor(X)\n",
        "    opt = torch.tensor(Y)\n",
        "\n",
        "    return ipt,opt"
      ],
      "metadata": {
        "id": "q-zgcdiec5vf"
      },
      "execution_count": null,
      "outputs": []
    },
    {
      "cell_type": "code",
      "source": [
        "def Accuracy (y_pred,y_actual,p):\n",
        "    correct = 0\n",
        "    for i in range (0,y_pred.size(0)):\n",
        "        if torch.equal(y_pred[i][p], y_actual[i][p]):\n",
        "            correct += 1\n",
        "\n",
        "    return (correct/y_pred.size(0))"
      ],
      "metadata": {
        "id": "ZOYYOnoTc-2R"
      },
      "execution_count": null,
      "outputs": []
    },
    {
      "cell_type": "code",
      "source": [
        "def Model_Evaluate (model,ipt,opt,p):\n",
        "    model.eval()\n",
        "    with torch.inference_mode():\n",
        "        pred_opt = torch.round(torch.sigmoid(model(ipt).squeeze()))\n",
        "    accuracy = Accuracy(pred_opt,opt,p)\n",
        "    print(f\"Accuracy : {accuracy}\")\n",
        "\n",
        "    pred_opt_np = pred_opt[:,p,:].detach().numpy()\n",
        "    opt_np = opt[:,p,:].detach().numpy()\n",
        "\n",
        "    _, recall_micro, f1_score_micro, _ = precision_recall_fscore_support(opt_np, pred_opt_np, average='micro',zero_division=1)\n",
        "    _, recall_macro, f1_score_macro, _ = precision_recall_fscore_support(opt_np, pred_opt_np, average='macro',zero_division=1)\n",
        "\n",
        "    print(\"Micro-average Recall:\", recall_micro)\n",
        "    print(\"Micro-average F1-score:\", f1_score_micro)\n",
        "    print(\"Macro-average Recall:\", recall_macro)\n",
        "    print(\"Macro-average F1-score:\", f1_score_macro)\n",
        "\n",
        "    return accuracy,recall_micro,recall_macro,f1_score_micro,f1_score_macro\n"
      ],
      "metadata": {
        "id": "IAMoOj74c_nR"
      },
      "execution_count": null,
      "outputs": []
    },
    {
      "cell_type": "code",
      "source": [
        "class FFNN_POS_Tagger (nn.Module):\n",
        "    def __init__ (self,vocab_size,tagset_size,embd_dim,hd_dim):\n",
        "        super().__init__()\n",
        "        self.input_dim = vocab_size\n",
        "        self.output_dim = tagset_size\n",
        "        self.hidden = hd_dim\n",
        "        self.embd = embd_dim\n",
        "        # Creating an Embedding Layer\n",
        "        self.embd_layer = nn.Embedding(self.input_dim,self.embd)\n",
        "        # From Embedding Layer to Final Output Layer\n",
        "        self.opt_predictor = nn.Sequential (nn.Linear(self.embd,self.hidden),                    # Embedding Layer to Hidden Layer\n",
        "                                            nn.ReLU(),                                           # Activation Function\n",
        "                                            nn.Linear(self.hidden,self.output_dim))              # Hidden Layer to Final Output\n",
        "    def forward(self,idx):\n",
        "        return self.opt_predictor(self.embd_layer(idx.to(torch.long)))\n",
        "\n",
        "def ffnn_tagger(EMBD_DIM,HIDDEN_DIM,LR,X_train,Y_train):\n",
        "    BATCH_SIZE = 120\n",
        "    NUM_EPOCHS = 80\n",
        "    ffnn_model = FFNN_POS_Tagger(len(vocab),len(tags),EMBD_DIM,HIDDEN_DIM)\n",
        "\n",
        "    ds = TensorDataset(X_train,Y_train)\n",
        "    data = DataLoader(ds,batch_size=BATCH_SIZE,shuffle=True)\n",
        "\n",
        "    Loss = nn.BCEWithLogitsLoss()\n",
        "    Optimizer = optim.SGD(params=ffnn_model.parameters(),lr = LR)\n",
        "\n",
        "    for i in range(0,NUM_EPOCHS):\n",
        "        ffnn_model.train()\n",
        "        for ipt_batch, opt_batch in data:\n",
        "            opt_pred = ffnn_model(ipt_batch).squeeze()\n",
        "            loss = Loss(opt_pred,opt_batch)\n",
        "            Optimizer.zero_grad()\n",
        "            loss.backward()\n",
        "            Optimizer.step()\n",
        "\n",
        "    return ffnn_model"
      ],
      "metadata": {
        "id": "FHtrQ-RYdFyK"
      },
      "execution_count": null,
      "outputs": []
    },
    {
      "cell_type": "code",
      "source": [
        "acc = []\n",
        "r_micro = []\n",
        "r_macro = []\n",
        "f1_micro = []\n",
        "f1_macro = []\n",
        "embedding_dim = []\n",
        "hidden_dim = []\n",
        "learning_rate = []\n",
        "\n",
        "embd_dim = [256,128,64]\n",
        "hd_dim = [256,128,64]\n",
        "learn = [0.2,0.1,0.01]\n",
        "\n",
        "x_train,y_train = preparing_data(vocab,tags,train_data,3,2)\n",
        "x_test, y_test = preparing_data(vocab,tags,dev_data,3,2)\n",
        "\n",
        "for emb in embd_dim:\n",
        "  for hd in hd_dim:\n",
        "    for lr in learn:\n",
        "        ff_model = ffnn_tagger(emb,hd,lr,x_train,y_train)\n",
        "        accuracy,recall_micro,recall_macro,f1_score_micro,f1_score_macro = Model_Evaluate(ff_model,x_test,y_test,3)\n",
        "        acc.append(accuracy)\n",
        "        r_micro.append(recall_micro)\n",
        "        r_macro.append(recall_macro)\n",
        "        f1_micro.append(f1_score_micro)\n",
        "        f1_macro.append(f1_score_macro)\n",
        "        embedding_dim.append(emb)\n",
        "        hidden_dim.append(hd)\n",
        "        learning_rate.append(lr)"
      ],
      "metadata": {
        "colab": {
          "base_uri": "https://localhost:8080/"
        },
        "cellView": "code",
        "id": "yOukn9umPEjv",
        "outputId": "88034acf-cc22-464b-d143-d89ac8330ff6"
      },
      "execution_count": null,
      "outputs": [
        {
          "output_type": "stream",
          "name": "stdout",
          "text": [
            "Accuracy : 0.956718443673654\n",
            "Micro-average Recall: 0.956718443673654\n",
            "Micro-average F1-score: 0.9603390856796852\n",
            "Macro-average Recall: 0.8936863848480462\n",
            "Macro-average F1-score: 0.9026473175903096\n",
            "Accuracy : 0.9527974664454834\n",
            "Micro-average Recall: 0.9530990800784196\n",
            "Micro-average F1-score: 0.9580112172199485\n",
            "Macro-average Recall: 0.8828696175619384\n",
            "Macro-average F1-score: 0.8951487652997727\n",
            "Accuracy : 0.8609561152164078\n",
            "Micro-average Recall: 0.8609561152164078\n",
            "Micro-average F1-score: 0.9084254912880897\n",
            "Macro-average Recall: 0.7207200865118448\n",
            "Macro-average F1-score: 0.7571311576650844\n",
            "Accuracy : 0.9565676368571859\n",
            "Micro-average Recall: 0.9565676368571859\n",
            "Micro-average F1-score: 0.9601150382199348\n",
            "Macro-average Recall: 0.8936551093425602\n",
            "Macro-average F1-score: 0.902363350410734\n",
            "Accuracy : 0.952345045996079\n",
            "Micro-average Recall: 0.952345045996079\n",
            "Micro-average F1-score: 0.9580520367139498\n",
            "Macro-average Recall: 0.8832420676753736\n",
            "Macro-average F1-score: 0.8963720887368686\n",
            "Accuracy : 0.8635198310963655\n",
            "Micro-average Recall: 0.8639722515457698\n",
            "Micro-average F1-score: 0.9086439333862014\n",
            "Macro-average Recall: 0.6734867329161768\n",
            "Macro-average F1-score: 0.702366182210075\n",
            "Accuracy : 0.9568692504901222\n",
            "Micro-average Recall: 0.9568692504901222\n",
            "Micro-average F1-score: 0.9603450885424548\n",
            "Macro-average Recall: 0.8922998391818153\n",
            "Macro-average F1-score: 0.9014292543039353\n",
            "Accuracy : 0.9520434323631428\n",
            "Micro-average Recall: 0.9520434323631428\n",
            "Micro-average F1-score: 0.9576759708737864\n",
            "Macro-average Recall: 0.8828642546585471\n",
            "Macro-average F1-score: 0.8960337971659517\n",
            "Accuracy : 0.849796410797768\n",
            "Micro-average Recall: 0.849796410797768\n",
            "Micro-average F1-score: 0.8990108487555838\n",
            "Macro-average Recall: 0.6549755670271393\n",
            "Macro-average F1-score: 0.6802840191898205\n",
            "Accuracy : 0.9547579550595687\n",
            "Micro-average Recall: 0.9547579550595687\n",
            "Micro-average F1-score: 0.9593150996287598\n",
            "Macro-average Recall: 0.8887781917774672\n",
            "Macro-average F1-score: 0.8997757168766534\n",
            "Accuracy : 0.9446538983562057\n",
            "Micro-average Recall: 0.9446538983562057\n",
            "Micro-average F1-score: 0.9536423841059603\n",
            "Macro-average Recall: 0.8694526334970156\n",
            "Macro-average F1-score: 0.8876055207247586\n",
            "Accuracy : 0.809229377167848\n",
            "Micro-average Recall: 0.809229377167848\n",
            "Micro-average F1-score: 0.8755098711045849\n",
            "Macro-average Recall: 0.6318809720011835\n",
            "Macro-average F1-score: 0.6695752754217695\n",
            "Accuracy : 0.9530990800784196\n",
            "Micro-average Recall: 0.9530990800784196\n",
            "Micro-average F1-score: 0.9583017437452616\n",
            "Macro-average Recall: 0.8835489809178185\n",
            "Macro-average F1-score: 0.8960524057438162\n",
            "Accuracy : 0.9442014779068014\n",
            "Micro-average Recall: 0.9446538983562057\n",
            "Micro-average F1-score: 0.9529895025102693\n",
            "Macro-average Recall: 0.861220911108525\n",
            "Macro-average F1-score: 0.8822584367579343\n",
            "Accuracy : 0.7881164228623134\n",
            "Micro-average Recall: 0.7887196501281858\n",
            "Micro-average F1-score: 0.8604804211911814\n",
            "Macro-average Recall: 0.6138888275607888\n",
            "Macro-average F1-score: 0.6358268300416424\n",
            "Accuracy : 0.9529482732619514\n",
            "Micro-average Recall: 0.9529482732619514\n",
            "Micro-average F1-score: 0.958150113722517\n",
            "Macro-average Recall: 0.8840694443202162\n",
            "Macro-average F1-score: 0.8964910844686023\n",
            "Accuracy : 0.9405821143115669\n",
            "Micro-average Recall: 0.940732921128035\n",
            "Micro-average F1-score: 0.9512771635531834\n",
            "Macro-average Recall: 0.8542163009151693\n",
            "Macro-average F1-score: 0.8752474392442031\n",
            "Accuracy : 0.7805760820389082\n",
            "Micro-average Recall: 0.7805760820389082\n",
            "Micro-average F1-score: 0.852437417654809\n",
            "Macro-average Recall: 0.6075425027887099\n",
            "Macro-average F1-score: 0.6307242141176814\n",
            "Accuracy : 0.9481224551349721\n",
            "Micro-average Recall: 0.9481224551349721\n",
            "Micro-average F1-score: 0.9556889868511059\n",
            "Macro-average Recall: 0.8748590633125225\n",
            "Macro-average F1-score: 0.8907835758308136\n",
            "Accuracy : 0.9324385462222893\n",
            "Micro-average Recall: 0.9324385462222893\n",
            "Micro-average F1-score: 0.946425838052962\n",
            "Macro-average Recall: 0.8422389517210731\n",
            "Macro-average F1-score: 0.8672829607623487\n",
            "Accuracy : 0.7480018096817976\n",
            "Micro-average Recall: 0.7511687528276279\n",
            "Micro-average F1-score: 0.8321082525893752\n",
            "Macro-average Recall: 0.5966486804704914\n",
            "Macro-average F1-score: 0.6230829160279601\n",
            "Accuracy : 0.9478208415020359\n",
            "Micro-average Recall: 0.9478208415020359\n",
            "Micro-average F1-score: 0.9554575858923685\n",
            "Macro-average Recall: 0.8691527114157268\n",
            "Macro-average F1-score: 0.8862767407812107\n",
            "Accuracy : 0.9313828985070125\n",
            "Micro-average Recall: 0.9316845121399487\n",
            "Micro-average F1-score: 0.9458776697542677\n",
            "Macro-average Recall: 0.8364253566550762\n",
            "Macro-average F1-score: 0.8653729587297158\n",
            "Accuracy : 0.6827024581511084\n",
            "Micro-average Recall: 0.6866234353792792\n",
            "Micro-average F1-score: 0.7915507649513213\n",
            "Macro-average Recall: 0.5341089110688118\n",
            "Macro-average F1-score: 0.5795859977192103\n",
            "Accuracy : 0.9431458301915246\n",
            "Micro-average Recall: 0.9440506710903332\n",
            "Micro-average F1-score: 0.9531059683313032\n",
            "Macro-average Recall: 0.8688181594798228\n",
            "Macro-average F1-score: 0.8859909885845885\n",
            "Accuracy : 0.930628864424672\n",
            "Micro-average Recall: 0.9307796712411401\n",
            "Micro-average F1-score: 0.9460453709380748\n",
            "Macro-average Recall: 0.8325788371643599\n",
            "Macro-average F1-score: 0.8625382162059877\n",
            "Accuracy : 0.6278087769567184\n",
            "Micro-average Recall: 0.6278087769567184\n",
            "Micro-average F1-score: 0.7472626099443547\n",
            "Macro-average Recall: 0.4989173658274143\n",
            "Macro-average F1-score: 0.5376625362806521\n"
          ]
        }
      ]
    },
    {
      "cell_type": "code",
      "source": [
        "from tabulate import tabulate\n",
        "\n",
        "table_data = list(zip(embedding_dim, hidden_dim, learning_rate,acc,r_micro,r_macro,f1_micro,f1_macro))\n",
        "\n",
        "print(tabulate(table_data, headers=['Embedding Dimension', 'Hidden Dimension', 'Learning Rate', 'Accuracy', 'Recall Micro', 'Recall Macro', 'F1 Score Micro', 'F1 Score Macro']))\n"
      ],
      "metadata": {
        "colab": {
          "base_uri": "https://localhost:8080/"
        },
        "id": "hj6OE2DqSxw_",
        "outputId": "f877cda8-eaef-467a-af53-25b2a334950b"
      },
      "execution_count": null,
      "outputs": [
        {
          "output_type": "stream",
          "name": "stdout",
          "text": [
            "  Embedding Dimension    Hidden Dimension    Learning Rate    Accuracy    Recall Micro    Recall Macro    F1 Score Micro    F1 Score Macro\n",
            "---------------------  ------------------  ---------------  ----------  --------------  --------------  ----------------  ----------------\n",
            "                  256                 256             0.2     0.956718        0.956718        0.893686          0.960339          0.902647\n",
            "                  256                 256             0.1     0.952797        0.953099        0.88287           0.958011          0.895149\n",
            "                  256                 256             0.01    0.860956        0.860956        0.72072           0.908425          0.757131\n",
            "                  256                 128             0.2     0.956568        0.956568        0.893655          0.960115          0.902363\n",
            "                  256                 128             0.1     0.952345        0.952345        0.883242          0.958052          0.896372\n",
            "                  256                 128             0.01    0.86352         0.863972        0.673487          0.908644          0.702366\n",
            "                  256                  64             0.2     0.956869        0.956869        0.8923            0.960345          0.901429\n",
            "                  256                  64             0.1     0.952043        0.952043        0.882864          0.957676          0.896034\n",
            "                  256                  64             0.01    0.849796        0.849796        0.654976          0.899011          0.680284\n",
            "                  128                 256             0.2     0.954758        0.954758        0.888778          0.959315          0.899776\n",
            "                  128                 256             0.1     0.944654        0.944654        0.869453          0.953642          0.887606\n",
            "                  128                 256             0.01    0.809229        0.809229        0.631881          0.87551           0.669575\n",
            "                  128                 128             0.2     0.953099        0.953099        0.883549          0.958302          0.896052\n",
            "                  128                 128             0.1     0.944201        0.944654        0.861221          0.95299           0.882258\n",
            "                  128                 128             0.01    0.788116        0.78872         0.613889          0.86048           0.635827\n",
            "                  128                  64             0.2     0.952948        0.952948        0.884069          0.95815           0.896491\n",
            "                  128                  64             0.1     0.940582        0.940733        0.854216          0.951277          0.875247\n",
            "                  128                  64             0.01    0.780576        0.780576        0.607543          0.852437          0.630724\n",
            "                   64                 256             0.2     0.948122        0.948122        0.874859          0.955689          0.890784\n",
            "                   64                 256             0.1     0.932439        0.932439        0.842239          0.946426          0.867283\n",
            "                   64                 256             0.01    0.748002        0.751169        0.596649          0.832108          0.623083\n",
            "                   64                 128             0.2     0.947821        0.947821        0.869153          0.955458          0.886277\n",
            "                   64                 128             0.1     0.931383        0.931685        0.836425          0.945878          0.865373\n",
            "                   64                 128             0.01    0.682702        0.686623        0.534109          0.791551          0.579586\n",
            "                   64                  64             0.2     0.943146        0.944051        0.868818          0.953106          0.885991\n",
            "                   64                  64             0.1     0.930629        0.93078         0.832579          0.946045          0.862538\n",
            "                   64                  64             0.01    0.627809        0.627809        0.498917          0.747263          0.537663\n"
          ]
        }
      ]
    },
    {
      "cell_type": "code",
      "source": [
        "acc = []\n",
        "r_micro = []\n",
        "r_macro = []\n",
        "f1_micro = []\n",
        "f1_macro = []\n",
        "\n",
        "for i in range (1,5):\n",
        "  X_train,Y_train = preparing_data(vocab,tags,train_data,i,i)\n",
        "  X_test, Y_test = preparing_data(vocab,tags,dev_data,i,i)\n",
        "  ff_model = ffnn_tagger(256,256,0.2,X_train,Y_train)\n",
        "  accuracy,recall_micro,recall_macro,f1_score_micro,f1_score_macro = Model_Evaluate(ff_model,X_test,Y_test,i)\n",
        "  acc.append(accuracy)\n",
        "  r_micro.append(recall_micro)\n",
        "  r_macro.append(recall_macro)\n",
        "  f1_micro.append(f1_score_micro)\n",
        "  f1_macro.append(f1_score_macro)\n"
      ],
      "metadata": {
        "colab": {
          "base_uri": "https://localhost:8080/"
        },
        "id": "-cNZYYShgr9X",
        "outputId": "34e68b41-d00d-4f6c-bd34-fd4a44d065b4"
      },
      "execution_count": null,
      "outputs": [
        {
          "output_type": "stream",
          "name": "stdout",
          "text": [
            "Accuracy : 0.969955724225174\n",
            "Micro-average Recall: 0.969955724225174\n",
            "Micro-average F1-score: 0.9724159797083068\n",
            "Macro-average Recall: 0.8946139548686415\n",
            "Macro-average F1-score: 0.9030556889999946\n",
            "Accuracy : 0.973184042152804\n",
            "Micro-average Recall: 0.973184042152804\n",
            "Micro-average F1-score: 0.9753866465484723\n",
            "Macro-average Recall: 0.8932349366711123\n",
            "Macro-average F1-score: 0.9021924500207024\n",
            "Accuracy : 0.9780824039653035\n",
            "Micro-average Recall: 0.9780824039653035\n",
            "Micro-average F1-score: 0.9798277601055163\n",
            "Macro-average Recall: 0.8945495857809174\n",
            "Macro-average F1-score: 0.9031257659446503\n",
            "Accuracy : 0.9828008324152283\n",
            "Micro-average Recall: 0.9828008324152283\n",
            "Micro-average F1-score: 0.9840958538902338\n",
            "Macro-average Recall: 0.89609277471693\n",
            "Macro-average F1-score: 0.9038096809042938\n"
          ]
        }
      ]
    },
    {
      "cell_type": "code",
      "source": [
        "from tabulate import tabulate\n",
        "context_window_sizes = [1, 2, 3, 4]\n",
        "\n",
        "table_data = list(zip(context_window_sizes ,acc,r_micro,r_macro,f1_micro,f1_macro))\n",
        "\n",
        "print(tabulate(table_data, headers=['Context Window','Accuracy', 'Recall Micro', 'Recall Macro', 'F1 Score Micro', 'F1 Score Macro']))"
      ],
      "metadata": {
        "colab": {
          "base_uri": "https://localhost:8080/"
        },
        "id": "cj8WObXH6xMd",
        "outputId": "421f234e-e595-4c6e-c53c-8923e09b1525"
      },
      "execution_count": null,
      "outputs": [
        {
          "output_type": "stream",
          "name": "stdout",
          "text": [
            "  Context Window    Accuracy    Recall Micro    Recall Macro    F1 Score Micro    F1 Score Macro\n",
            "----------------  ----------  --------------  --------------  ----------------  ----------------\n",
            "               1    0.969956        0.969956        0.894614          0.972416          0.903056\n",
            "               2    0.973184        0.973184        0.893235          0.975387          0.902192\n",
            "               3    0.978082        0.978082        0.89455           0.979828          0.903126\n",
            "               4    0.982801        0.982801        0.896093          0.984096          0.90381\n"
          ]
        }
      ]
    },
    {
      "cell_type": "code",
      "source": [
        "import matplotlib.pyplot as plt\n",
        "\n",
        "# Example data: context window sizes and corresponding accuracies\n",
        "context_window_sizes = [1, 2, 3, 4]\n",
        "\n",
        "# Plot the graph\n",
        "plt.plot(context_window_sizes, acc, marker='o')\n",
        "# Add labels and title\n",
        "plt.xlabel('Context Window Size')\n",
        "plt.ylabel('Accuracy')\n",
        "plt.title('Context Window Size vs Accuracy')\n",
        "\n",
        "# Show grid\n",
        "plt.grid(True)\n",
        "\n",
        "# Show plot\n",
        "plt.show()"
      ],
      "metadata": {
        "colab": {
          "base_uri": "https://localhost:8080/",
          "height": 472
        },
        "id": "g-S8rnCOh04F",
        "outputId": "81c536c6-c4d4-45e1-df55-d4f8c850a60b"
      },
      "execution_count": 26,
      "outputs": [
        {
          "output_type": "display_data",
          "data": {
            "text/plain": [
              "<PIL.Image.Image image mode=RGB size=584x455>"
            ],
            "image/png": "[encoded data removed]"
          },
          "metadata": {}
        }
      ]
    },
    {
      "cell_type": "markdown",
      "source": [
        "RECURRENT NEURAL NETWORK"
      ],
      "metadata": {
        "id": "xngkA85idyhi"
      }
    },
    {
      "cell_type": "code",
      "source": [
        "def data2idx (data):\n",
        "    X = []\n",
        "    Y = []\n",
        "    for sentence_data in data:\n",
        "        word2idx = []\n",
        "        tag2idx = []\n",
        "        for i in range (0,len(sentence_data[0])):\n",
        "            if sentence_data[1][i] in tags:\n",
        "                tag2idx.append(tags[sentence_data[1][i]])\n",
        "                if sentence_data[0][i] in vocab:\n",
        "                    word2idx.append(vocab[sentence_data[0][i]])\n",
        "                else :\n",
        "                    word2idx.append(vocab['<unk>'])\n",
        "\n",
        "        X.append(word2idx)\n",
        "        y_vect = []\n",
        "        for i in range (0,len(tag2idx)):\n",
        "            y = [float(0)]*len(tags)\n",
        "            y[tag2idx[i]] = float(1)\n",
        "            y_vect.append(y)\n",
        "        Y.append(y_vect)\n",
        "\n",
        "    return X,Y"
      ],
      "metadata": {
        "id": "zReNkq6bdJFU"
      },
      "execution_count": null,
      "outputs": []
    },
    {
      "cell_type": "code",
      "source": [
        "def padding (X,Y):\n",
        "    # Maximum Sentence Size = 60\n",
        "    sentence_size = 60\n",
        "    y = [float(0)]*len(tags)\n",
        "    y[tags['<pad>']] = float(1)\n",
        "    for i in range (0,len(X)):\n",
        "        sz = sentence_size - len(X[i])\n",
        "        X[i] = X[i] + sz*[vocab['<pad>']]\n",
        "        for j in range (0,sz):\n",
        "            Y[i].append(y)\n",
        "            j += 1\n",
        "\n",
        "    ipt = torch.tensor(X)\n",
        "    opt = torch.tensor(Y)\n",
        "\n",
        "    return ipt,opt"
      ],
      "metadata": {
        "id": "L1POPUtRdO8O"
      },
      "execution_count": null,
      "outputs": []
    },
    {
      "cell_type": "code",
      "source": [
        "def Evaluate_LSTM (lstm_model,BATCH_SIZE):\n",
        "    # Loading the Test Data\n",
        "    test_x,test_y = data2idx(dev_data)\n",
        "    test_ipt,test_opt = padding(test_x,test_y)\n",
        "    ds_test = TensorDataset(test_ipt,test_opt)\n",
        "    test_loader = DataLoader(ds_test,batch_size=120,shuffle=True)\n",
        "\n",
        "    pad = [float(0)]*len(tags)\n",
        "    pad[tags['<pad>']] = float(1)\n",
        "    pad_tensor = torch.tensor(pad)\n",
        "    model_predictions = []\n",
        "    actual_values = []\n",
        "    correct = 0\n",
        "    total = 0\n",
        "    for ipt_test, opt_test in test_loader:\n",
        "        lstm_model.initial_hd = (torch.zeros(1,min(BATCH_SIZE,len(ipt_test)),lstm_model.hidden),torch.zeros(1,min(BATCH_SIZE,len(ipt_test)),lstm_model.hidden))\n",
        "\n",
        "        lstm_model.eval()\n",
        "        with torch.inference_mode():\n",
        "            pred_opt = torch.round(torch.sigmoid(lstm_model(ipt_test).squeeze()))\n",
        "\n",
        "        for val in range (0,len(pred_opt)):\n",
        "            for k in range (0,len(pred_opt[val])):\n",
        "                if not torch.equal(opt_test[val][k],pad_tensor):\n",
        "                    if torch.equal(opt_test[val][k],pred_opt[val][k]):\n",
        "                        correct += 1\n",
        "                        total += 1\n",
        "                    else :\n",
        "                        total += 1\n",
        "                else:\n",
        "                    model_predictions.append(pred_opt[val][:k].detach().numpy())\n",
        "                    actual_values.append(opt_test[val][:k].detach().numpy())\n",
        "                    break\n",
        "\n",
        "\n",
        "    model_predictions = np.concatenate(model_predictions)\n",
        "    actual_values = np.concatenate(actual_values)\n",
        "\n",
        "    accuracy = correct/total\n",
        "    _, recall_micro, f1_score_micro, _ = precision_recall_fscore_support(model_predictions, actual_values, average='micro',zero_division=1)\n",
        "    _, recall_macro, f1_score_macro, _ = precision_recall_fscore_support(model_predictions, actual_values, average='macro',zero_division=1)\n",
        "\n",
        "    print(f\"Accuracy : {accuracy}\")\n",
        "    print(\"Micro-average Recall:\", recall_micro)\n",
        "    print(\"Micro-average F1-score:\", f1_score_micro)\n",
        "    print(\"Macro-average Recall:\", recall_macro)\n",
        "    print(\"Macro-average F1-score:\", f1_score_macro)\n",
        "\n",
        "    return accuracy,recall_micro,recall_macro,f1_score_micro,f1_score_macro\n"
      ],
      "metadata": {
        "id": "CJPXl9ssdRTH"
      },
      "execution_count": null,
      "outputs": []
    },
    {
      "cell_type": "code",
      "source": [
        "class LSTM_POS_Tagger (nn.Module):\n",
        "    def __init__ (self,vocab_size,tagset_size,embd_dim,hd_dim,batch_size):\n",
        "        super().__init__()\n",
        "        self.input_dim = vocab_size\n",
        "        self.output_dim = tagset_size\n",
        "        self.hidden = hd_dim\n",
        "        self.embd = embd_dim\n",
        "        self.batch_size = batch_size\n",
        "        # Creating an Embedding Layer\n",
        "        self.embd_layer = nn.Embedding(self.input_dim,self.embd)\n",
        "        # From Embedding Layer to Final Output Layer\n",
        "        self.lstm_layer = nn.LSTM(self.embd,self.hidden,batch_first=True)\n",
        "        self.hidden_layer = nn.Linear(self.hidden,self.output_dim)\n",
        "\n",
        "        # dimensions (no. of lstm layer, batch size 1 (processing one sentence at a time), hidden_layer dimensions)\n",
        "        # initializing the hidden layer to zero for first iteration\n",
        "        self.initial_hd = (torch.zeros(1,self.batch_size,self.hidden),torch.zeros(1,self.batch_size,self.hidden))\n",
        "\n",
        "    def forward(self,batch):\n",
        "        embd_layer = self.embd_layer(batch)\n",
        "        lstm_layer, self.initial_hiddenlayer = self.lstm_layer(embd_layer,self.initial_hd)\n",
        "        tag_layer = self.hidden_layer(lstm_layer)\n",
        "\n",
        "        return tag_layer\n",
        "\n",
        "def lstm_tagger(EMBD_DIM,HIDDEN_DIM,LR):\n",
        "    BATCH_SIZE = 120\n",
        "    NUM_EPOCHS = 30\n",
        "\n",
        "    X,Y = data2idx(train_data)\n",
        "    ipt,opt = padding(X,Y)\n",
        "\n",
        "    lstm_model = LSTM_POS_Tagger(len(vocab),len(tags),EMBD_DIM,HIDDEN_DIM,BATCH_SIZE)\n",
        "\n",
        "    ds = TensorDataset(ipt,opt)\n",
        "    data = DataLoader(ds,batch_size=BATCH_SIZE,shuffle=True)\n",
        "\n",
        "    Loss = nn.BCEWithLogitsLoss()\n",
        "    Optimizer = optim.Adam(params=lstm_model.parameters(),lr = LR)\n",
        "\n",
        "    for i in range(0,NUM_EPOCHS):\n",
        "        for ipt_batch, opt_batch in data:\n",
        "\n",
        "            lstm_model.initial_hd = (torch.zeros(1,min(BATCH_SIZE,len(ipt_batch)),lstm_model.hidden),torch.zeros(1,min(BATCH_SIZE,len(ipt_batch)),lstm_model.hidden))\n",
        "            pred_tags = lstm_model(ipt_batch)\n",
        "            loss = Loss(pred_tags,opt_batch)\n",
        "            Optimizer.zero_grad()\n",
        "            loss.backward()\n",
        "            Optimizer.step()\n",
        "\n",
        "    return lstm_model\n"
      ],
      "metadata": {
        "id": "k1khtSiidUJg"
      },
      "execution_count": null,
      "outputs": []
    },
    {
      "cell_type": "code",
      "source": [
        "acc = []\n",
        "r_micro = []\n",
        "r_macro = []\n",
        "f1_micro = []\n",
        "f1_macro = []\n",
        "embedding_dim = []\n",
        "hidden_dim = []\n",
        "learning_rate = []\n",
        "\n",
        "lstm_model = lstm_tagger(256,256,0.2)\n",
        "accuracy,recall_micro,recall_macro,f1_score_micro,f1_score_macro = Evaluate_LSTM(lstm_model,120)\n",
        "acc.append(accuracy)\n",
        "r_micro.append(recall_micro)\n",
        "r_macro.append(recall_macro)\n",
        "f1_micro.append(f1_score_micro)\n",
        "f1_macro.append(f1_score_macro)\n",
        "embedding_dim.append(256)\n",
        "hidden_dim.append(256)\n",
        "learning_rate.append(0.2)"
      ],
      "metadata": {
        "colab": {
          "base_uri": "https://localhost:8080/"
        },
        "id": "cAIWuWvmjl6D",
        "outputId": "719dc542-61b7-4207-80f6-6bde4ee6d223"
      },
      "execution_count": null,
      "outputs": [
        {
          "output_type": "stream",
          "name": "stdout",
          "text": [
            "Accuracy : 0.9463127733373549\n",
            "Micro-average Recall: 0.9607425441265977\n",
            "Micro-average F1-score: 0.9564492918276148\n",
            "Macro-average Recall: 0.9046420562317218\n",
            "Macro-average F1-score: 0.8802316074031236\n"
          ]
        }
      ]
    },
    {
      "cell_type": "code",
      "source": [
        "from tabulate import tabulate\n",
        "\n",
        "table_data = list(zip(embedding_dim, hidden_dim, learning_rate,acc,r_micro,r_macro,f1_micro,f1_macro))\n",
        "\n",
        "print(tabulate(table_data, headers=['Embedding Dimension', 'Hidden Dimension', 'Learning Rate', 'Accuracy', 'Recall Micro', 'Recall Macro', 'F1 Score Micro', 'F1 Score Macro']))"
      ],
      "metadata": {
        "id": "_5tzu52wxjJR",
        "colab": {
          "base_uri": "https://localhost:8080/"
        },
        "outputId": "67409b06-1aca-43b7-8b0e-7e2b45623c81"
      },
      "execution_count": null,
      "outputs": [
        {
          "output_type": "stream",
          "name": "stdout",
          "text": [
            "  Embedding Dimension    Hidden Dimension    Learning Rate    Accuracy    Recall Micro    Recall Macro    F1 Score Micro    F1 Score Macro\n",
            "---------------------  ------------------  ---------------  ----------  --------------  --------------  ----------------  ----------------\n",
            "                  256                 256              0.2    0.946313        0.960743        0.904642          0.956449          0.880232\n"
          ]
        }
      ]
    },
    {
      "cell_type": "code",
      "source": [
        "lstm_model = lstm_tagger(256,128,0.2)\n",
        "accuracy,recall_micro,recall_macro,f1_score_micro,f1_score_macro = Evaluate_LSTM(lstm_model,120)\n",
        "acc.append(accuracy)\n",
        "r_micro.append(recall_micro)\n",
        "r_macro.append(recall_macro)\n",
        "f1_micro.append(f1_score_micro)\n",
        "f1_macro.append(f1_score_macro)\n",
        "embedding_dim.append(256)\n",
        "hidden_dim.append(128)\n",
        "learning_rate.append(0.2)"
      ],
      "metadata": {
        "id": "avC3AlTjqdBE",
        "colab": {
          "base_uri": "https://localhost:8080/"
        },
        "outputId": "550a60a5-99e5-4e8b-c86c-db19dc38d23b"
      },
      "execution_count": null,
      "outputs": [
        {
          "output_type": "stream",
          "name": "stdout",
          "text": [
            "Accuracy : 0.9426934097421203\n",
            "Micro-average Recall: 0.963969465648855\n",
            "Micro-average F1-score: 0.9580456718003186\n",
            "Macro-average Recall: 0.9585267170736467\n",
            "Macro-average F1-score: 0.9356461641491347\n"
          ]
        }
      ]
    },
    {
      "cell_type": "code",
      "source": [
        "from tabulate import tabulate\n",
        "\n",
        "table_data = list(zip(embedding_dim, hidden_dim, learning_rate,acc,r_micro,r_macro,f1_micro,f1_macro))\n",
        "\n",
        "print(tabulate(table_data, headers=['Embedding Dimension', 'Hidden Dimension', 'Learning Rate', 'Accuracy', 'Recall Micro', 'Recall Macro', 'F1 Score Micro', 'F1 Score Macro']))"
      ],
      "metadata": {
        "id": "EkkADwoLxiE5",
        "colab": {
          "base_uri": "https://localhost:8080/"
        },
        "outputId": "aab1226e-e8c7-4e89-b05b-6bffd143de76"
      },
      "execution_count": null,
      "outputs": [
        {
          "output_type": "stream",
          "name": "stdout",
          "text": [
            "  Embedding Dimension    Hidden Dimension    Learning Rate    Accuracy    Recall Micro    Recall Macro    F1 Score Micro    F1 Score Macro\n",
            "---------------------  ------------------  ---------------  ----------  --------------  --------------  ----------------  ----------------\n",
            "                  256                 256              0.2    0.946313        0.960743        0.904642          0.956449          0.880232\n",
            "                  256                 128              0.2    0.942693        0.963969        0.958527          0.958046          0.935646\n"
          ]
        }
      ]
    },
    {
      "cell_type": "code",
      "source": [
        "lstm_model = lstm_tagger(128,64,0.2)\n",
        "accuracy,recall_micro,recall_macro,f1_score_micro,f1_score_macro = Evaluate_LSTM(lstm_model,120)\n",
        "acc.append(accuracy)\n",
        "r_micro.append(recall_micro)\n",
        "r_macro.append(recall_macro)\n",
        "f1_micro.append(f1_score_micro)\n",
        "f1_macro.append(f1_score_macro)\n",
        "embedding_dim.append(128)\n",
        "hidden_dim.append(64)\n",
        "learning_rate.append(0.2)"
      ],
      "metadata": {
        "id": "b6Fwx7gDqitS",
        "colab": {
          "base_uri": "https://localhost:8080/"
        },
        "outputId": "da8d37da-0cda-4ad7-df58-07d94e28dbc1"
      },
      "execution_count": null,
      "outputs": [
        {
          "output_type": "stream",
          "name": "stdout",
          "text": [
            "Accuracy : 0.9250490122153522\n",
            "Micro-average Recall: 0.9653457653457653\n",
            "Micro-average F1-score: 0.9508648400428592\n",
            "Macro-average Recall: 0.9569210223964875\n",
            "Macro-average F1-score: 0.9228023969106867\n"
          ]
        }
      ]
    },
    {
      "cell_type": "code",
      "source": [
        "from tabulate import tabulate\n",
        "\n",
        "table_data = list(zip(embedding_dim, hidden_dim, learning_rate,acc,r_micro,r_macro,f1_micro,f1_macro))\n",
        "\n",
        "print(tabulate(table_data, headers=['Embedding Dimension', 'Hidden Dimension', 'Learning Rate', 'Accuracy', 'Recall Micro', 'Recall Macro', 'F1 Score Micro', 'F1 Score Macro']))"
      ],
      "metadata": {
        "id": "XptDg2TMxguH",
        "colab": {
          "base_uri": "https://localhost:8080/"
        },
        "outputId": "5b35e89b-b5a5-4752-a25c-61a75c371756"
      },
      "execution_count": null,
      "outputs": [
        {
          "output_type": "stream",
          "name": "stdout",
          "text": [
            "  Embedding Dimension    Hidden Dimension    Learning Rate    Accuracy    Recall Micro    Recall Macro    F1 Score Micro    F1 Score Macro\n",
            "---------------------  ------------------  ---------------  ----------  --------------  --------------  ----------------  ----------------\n",
            "                  256                 256              0.2    0.946313        0.960743        0.904642          0.956449          0.880232\n",
            "                  256                 128              0.2    0.942693        0.963969        0.958527          0.958046          0.935646\n",
            "                  128                  64              0.2    0.925049        0.965346        0.956921          0.950865          0.922802\n"
          ]
        }
      ]
    },
    {
      "cell_type": "code",
      "source": [
        "lstm_model = lstm_tagger(128,64,0.1)\n",
        "accuracy,recall_micro,recall_macro,f1_score_micro,f1_score_macro = Evaluate_LSTM(lstm_model,120)\n",
        "acc.append(accuracy)\n",
        "r_micro.append(recall_micro)\n",
        "r_macro.append(recall_macro)\n",
        "f1_micro.append(f1_score_micro)\n",
        "f1_macro.append(f1_score_macro)\n",
        "embedding_dim.append(128)\n",
        "hidden_dim.append(64)\n",
        "learning_rate.append(0.1)"
      ],
      "metadata": {
        "id": "m9Qb_-2_qr6l",
        "colab": {
          "base_uri": "https://localhost:8080/"
        },
        "outputId": "cb81ae8c-8075-47ae-eab3-c11106bdb3fc"
      },
      "execution_count": null,
      "outputs": [
        {
          "output_type": "stream",
          "name": "stdout",
          "text": [
            "Accuracy : 0.9565676368571859\n",
            "Micro-average Recall: 0.9726132190942472\n",
            "Micro-average F1-score: 0.9655958077010709\n",
            "Macro-average Recall: 0.9673178349080863\n",
            "Macro-average F1-score: 0.9532705660890689\n"
          ]
        }
      ]
    },
    {
      "cell_type": "code",
      "source": [
        "from tabulate import tabulate\n",
        "\n",
        "table_data = list(zip(embedding_dim, hidden_dim, learning_rate,acc,r_micro,r_macro,f1_micro,f1_macro))\n",
        "\n",
        "print(tabulate(table_data, headers=['Embedding Dimension', 'Hidden Dimension', 'Learning Rate', 'Accuracy', 'Recall Micro', 'Recall Macro', 'F1 Score Micro', 'F1 Score Macro']))"
      ],
      "metadata": {
        "id": "cm0JTPLsoiL9",
        "colab": {
          "base_uri": "https://localhost:8080/"
        },
        "outputId": "bec2d416-3877-4409-dc3c-00fdd331b43a"
      },
      "execution_count": null,
      "outputs": [
        {
          "output_type": "stream",
          "name": "stdout",
          "text": [
            "  Embedding Dimension    Hidden Dimension    Learning Rate    Accuracy    Recall Micro    Recall Macro    F1 Score Micro    F1 Score Macro\n",
            "---------------------  ------------------  ---------------  ----------  --------------  --------------  ----------------  ----------------\n",
            "                  256                 256              0.2    0.946313        0.960743        0.904642          0.956449          0.880232\n",
            "                  256                 128              0.2    0.942693        0.963969        0.958527          0.958046          0.935646\n",
            "                  128                  64              0.2    0.925049        0.965346        0.956921          0.950865          0.922802\n",
            "                  128                  64              0.1    0.956568        0.972613        0.967318          0.965596          0.953271\n"
          ]
        }
      ]
    },
    {
      "cell_type": "code",
      "source": [
        "lstm_model = lstm_tagger(128,128,0.1)\n",
        "accuracy,recall_micro,recall_macro,f1_score_micro,f1_score_macro = Evaluate_LSTM(lstm_model,120)\n",
        "acc.append(accuracy)\n",
        "r_micro.append(recall_micro)\n",
        "r_macro.append(recall_macro)\n",
        "f1_micro.append(f1_score_micro)\n",
        "f1_macro.append(f1_score_macro)\n",
        "embedding_dim.append(128)\n",
        "hidden_dim.append(128)\n",
        "learning_rate.append(0.1)"
      ],
      "metadata": {
        "colab": {
          "base_uri": "https://localhost:8080/"
        },
        "id": "ZowDj1c2ATxb",
        "outputId": "e7b8285c-8798-4805-922f-5915eacb6bfd"
      },
      "execution_count": null,
      "outputs": [
        {
          "output_type": "stream",
          "name": "stdout",
          "text": [
            "Accuracy : 0.9627507163323782\n",
            "Micro-average Recall: 0.9738482590846891\n",
            "Micro-average F1-score: 0.9698667474258026\n",
            "Macro-average Recall: 0.971158764683915\n",
            "Macro-average F1-score: 0.9581757052128985\n"
          ]
        }
      ]
    },
    {
      "cell_type": "code",
      "source": [
        "from tabulate import tabulate\n",
        "\n",
        "table_data = list(zip(embedding_dim, hidden_dim, learning_rate,acc,r_micro,r_macro,f1_micro,f1_macro))\n",
        "\n",
        "print(tabulate(table_data, headers=['Embedding Dimension', 'Hidden Dimension', 'Learning Rate', 'Accuracy', 'Recall Micro', 'Recall Macro', 'F1 Score Micro', 'F1 Score Macro']))"
      ],
      "metadata": {
        "colab": {
          "base_uri": "https://localhost:8080/"
        },
        "id": "-lWiATChAZjZ",
        "outputId": "cda84516-b801-44bd-8a44-32cf318eeccc"
      },
      "execution_count": null,
      "outputs": [
        {
          "output_type": "stream",
          "name": "stdout",
          "text": [
            "  Embedding Dimension    Hidden Dimension    Learning Rate    Accuracy    Recall Micro    Recall Macro    F1 Score Micro    F1 Score Macro\n",
            "---------------------  ------------------  ---------------  ----------  --------------  --------------  ----------------  ----------------\n",
            "                  256                 256              0.2    0.946313        0.960743        0.904642          0.956449          0.880232\n",
            "                  256                 128              0.2    0.942693        0.963969        0.958527          0.958046          0.935646\n",
            "                  128                  64              0.2    0.925049        0.965346        0.956921          0.950865          0.922802\n",
            "                  128                  64              0.1    0.956568        0.972613        0.967318          0.965596          0.953271\n",
            "                  128                 128              0.1    0.962751        0.973848        0.971159          0.969867          0.958176\n"
          ]
        }
      ]
    },
    {
      "cell_type": "code",
      "source": [
        "class LSTM_POS_Tagger (nn.Module):\n",
        "    def __init__ (self,vocab_size,tagset_size,embd_dim,hd_dim,batch_size):\n",
        "        super().__init__()\n",
        "        self.input_dim = vocab_size\n",
        "        self.output_dim = tagset_size\n",
        "        self.hidden = hd_dim\n",
        "        self.embd = embd_dim\n",
        "        self.batch_size = batch_size\n",
        "        # Creating an Embedding Layer\n",
        "        self.embd_layer = nn.Embedding(self.input_dim,self.embd)\n",
        "        # From Embedding Layer to Final Output Layer\n",
        "        self.lstm_layer = nn.LSTM(self.embd,self.hidden,batch_first=True)\n",
        "        self.hidden_layer = nn.Linear(self.hidden,self.output_dim)\n",
        "\n",
        "        # dimensions (no. of lstm layer, batch size 1 (processing one sentence at a time), hidden_layer dimensions)\n",
        "        # initializing the hidden layer to zero for first iteration\n",
        "        self.initial_hd = (torch.zeros(1,self.batch_size,self.hidden),torch.zeros(1,self.batch_size,self.hidden))\n",
        "\n",
        "    def forward(self,batch):\n",
        "        embd_layer = self.embd_layer(batch)\n",
        "        lstm_layer, self.initial_hiddenlayer = self.lstm_layer(embd_layer,self.initial_hd)\n",
        "        tag_layer = self.hidden_layer(lstm_layer)\n",
        "\n",
        "        return tag_layer\n",
        "\n",
        "def lstm_tagger(EMBD_DIM,HIDDEN_DIM,LR):\n",
        "    BATCH_SIZE = 120\n",
        "    NUM_EPOCHS = 30\n",
        "    ACCURACY = []\n",
        "    EPOCH = []\n",
        "\n",
        "    X,Y = data2idx(train_data)\n",
        "    ipt,opt = padding(X,Y)\n",
        "\n",
        "    lstm_model = LSTM_POS_Tagger(len(vocab),len(tags),EMBD_DIM,HIDDEN_DIM,BATCH_SIZE)\n",
        "\n",
        "    ds = TensorDataset(ipt,opt)\n",
        "    data = DataLoader(ds,batch_size=BATCH_SIZE,shuffle=True)\n",
        "\n",
        "    Loss = nn.BCEWithLogitsLoss()\n",
        "    Optimizer = optim.Adam(params=lstm_model.parameters(),lr = LR)\n",
        "\n",
        "    for i in range(0,NUM_EPOCHS):\n",
        "        for ipt_batch, opt_batch in data:\n",
        "\n",
        "            lstm_model.initial_hd = (torch.zeros(1,min(BATCH_SIZE,len(ipt_batch)),lstm_model.hidden),torch.zeros(1,min(BATCH_SIZE,len(ipt_batch)),lstm_model.hidden))\n",
        "            pred_tags = lstm_model(ipt_batch)\n",
        "            loss = Loss(pred_tags,opt_batch)\n",
        "            Optimizer.zero_grad()\n",
        "            loss.backward()\n",
        "            Optimizer.step()\n",
        "\n",
        "        accuracy,recall_micro,recall_macro,f1_score_micro,f1_score_macro = Evaluate_LSTM(lstm_model,120)\n",
        "        ACCURACY.append(accuracy)\n",
        "        EPOCH.append(i)\n",
        "\n",
        "    return lstm_model,ACCURACY,EPOCH"
      ],
      "metadata": {
        "id": "k4-ujzatCQKJ"
      },
      "execution_count": null,
      "outputs": []
    },
    {
      "cell_type": "code",
      "source": [
        "lstm_model,ACCURACY,EPOCH = lstm_tagger(128,64,0.1)"
      ],
      "metadata": {
        "colab": {
          "base_uri": "https://localhost:8080/"
        },
        "id": "avZ2zdTYDq4-",
        "outputId": "749bb8e3-4aa1-41f3-bbfe-6dcc84c6e75e"
      },
      "execution_count": null,
      "outputs": [
        {
          "output_type": "stream",
          "name": "stdout",
          "text": [
            "Accuracy : 0.5668828231036043\n",
            "Micro-average Recall: 0.9031358885017422\n",
            "Micro-average F1-score: 0.7110460863204097\n",
            "Macro-average Recall: 0.6514007736509961\n",
            "Macro-average F1-score: 0.44598518117714636\n",
            "Accuracy : 0.8405971949932137\n",
            "Micro-average Recall: 0.9545377149667972\n",
            "Micro-average F1-score: 0.8966730646193218\n",
            "Macro-average Recall: 0.8719056332892963\n",
            "Macro-average F1-score: 0.7290993738488588\n",
            "Accuracy : 0.9312320916905444\n",
            "Micro-average Recall: 0.9693030540328896\n",
            "Micro-average F1-score: 0.9509834050399508\n",
            "Macro-average Recall: 0.9495195165435084\n",
            "Macro-average F1-score: 0.8996098135252321\n",
            "Accuracy : 0.9473684210526315\n",
            "Micro-average Recall: 0.9722136461870948\n",
            "Micro-average F1-score: 0.9608665802120679\n",
            "Macro-average Recall: 0.9583350485487304\n",
            "Macro-average F1-score: 0.9252863364690058\n",
            "Accuracy : 0.9482732619514402\n",
            "Micro-average Recall: 0.9750658200402664\n",
            "Micro-average F1-score: 0.9621026894865525\n",
            "Macro-average Recall: 0.9704853542865411\n",
            "Macro-average F1-score: 0.8847034224425774\n",
            "Accuracy : 0.9577740913889308\n",
            "Micro-average Recall: 0.9741432068543452\n",
            "Micro-average F1-score: 0.9671147565884408\n",
            "Macro-average Recall: 0.9627892870882687\n",
            "Macro-average F1-score: 0.9375567018420115\n",
            "Accuracy : 0.9591313527371437\n",
            "Micro-average Recall: 0.973720397249809\n",
            "Micro-average F1-score: 0.967364905889496\n",
            "Macro-average Recall: 0.9012240383027492\n",
            "Macro-average F1-score: 0.876791065579096\n",
            "Accuracy : 0.9598853868194842\n",
            "Micro-average Recall: 0.9724211488648484\n",
            "Micro-average F1-score: 0.967409428528119\n",
            "Macro-average Recall: 0.9004290967143528\n",
            "Macro-average F1-score: 0.8760279878566628\n",
            "Accuracy : 0.9574724777559945\n",
            "Micro-average Recall: 0.9745710784313726\n",
            "Micro-average F1-score: 0.9669427768067481\n",
            "Macro-average Recall: 0.9090302022230536\n",
            "Macro-average F1-score: 0.8834409687376696\n",
            "Accuracy : 0.9615442618006333\n",
            "Micro-average Recall: 0.9755687891281112\n",
            "Micro-average F1-score: 0.9694992412746586\n",
            "Macro-average Recall: 0.91043246777936\n",
            "Macro-average F1-score: 0.8893699933257728\n",
            "Accuracy : 0.960941034534761\n",
            "Micro-average Recall: 0.9715546090660176\n",
            "Micro-average F1-score: 0.9673608481635743\n",
            "Macro-average Recall: 0.9009338978347249\n",
            "Macro-average F1-score: 0.8825156958997211\n",
            "Accuracy : 0.9641079776805912\n",
            "Micro-average Recall: 0.9741405536963796\n",
            "Micro-average F1-score: 0.969935630443014\n",
            "Macro-average Recall: 0.9053577397825898\n",
            "Macro-average F1-score: 0.8888620814011664\n",
            "Accuracy : 0.9630523299653144\n",
            "Micro-average Recall: 0.9745659457812976\n",
            "Micro-average F1-score: 0.9697658558763356\n",
            "Macro-average Recall: 0.9093118731838442\n",
            "Macro-average F1-score: 0.8919104177139046\n",
            "Accuracy : 0.965314432212336\n",
            "Micro-average Recall: 0.9744603222864092\n",
            "Micro-average F1-score: 0.9705503823150883\n",
            "Macro-average Recall: 0.9148223656425909\n",
            "Macro-average F1-score: 0.8974658616269475\n",
            "Accuracy : 0.9651636253958679\n",
            "Micro-average Recall: 0.9744642042863657\n",
            "Micro-average F1-score: 0.9706283118849356\n",
            "Macro-average Recall: 0.9745432200324318\n",
            "Macro-average F1-score: 0.9594201349966784\n",
            "Accuracy : 0.9651636253958679\n",
            "Micro-average Recall: 0.9719654493105016\n",
            "Micro-average F1-score: 0.9696145124716553\n",
            "Macro-average Recall: 0.9053414097439803\n",
            "Macro-average F1-score: 0.8903632001390214\n",
            "Accuracy : 0.9650128185793998\n",
            "Micro-average Recall: 0.9732807044177926\n",
            "Micro-average F1-score: 0.970040853381752\n",
            "Macro-average Recall: 0.9720519136089789\n",
            "Macro-average F1-score: 0.9579973298620248\n",
            "Accuracy : 0.9662192731111446\n",
            "Micro-average Recall: 0.9760962241169305\n",
            "Micro-average F1-score: 0.9714372300931887\n",
            "Macro-average Recall: 0.9755802569315486\n",
            "Macro-average F1-score: 0.9575694023469921\n",
            "Accuracy : 0.9654652390288041\n",
            "Micro-average Recall: 0.9737281700835232\n",
            "Micro-average F1-score: 0.9703389830508474\n",
            "Macro-average Recall: 0.9682020552324843\n",
            "Macro-average F1-score: 0.9549464964830019\n",
            "Accuracy : 0.9644095913135273\n",
            "Micro-average Recall: 0.9741405536963796\n",
            "Micro-average F1-score: 0.969935630443014\n",
            "Macro-average Recall: 0.9677247824624619\n",
            "Macro-average F1-score: 0.9526167928316982\n",
            "Accuracy : 0.9644095913135273\n",
            "Micro-average Recall: 0.9754647973178909\n",
            "Micro-average F1-score: 0.9703630713257031\n",
            "Macro-average Recall: 0.976131442834001\n",
            "Macro-average F1-score: 0.9563234558347362\n",
            "Accuracy : 0.9615442618006333\n",
            "Micro-average Recall: 0.9746719560573696\n",
            "Micro-average F1-score: 0.9689799014031096\n",
            "Macro-average Recall: 0.9721372400772474\n",
            "Macro-average F1-score: 0.954668555660861\n",
            "Accuracy : 0.965314432212336\n",
            "Micro-average Recall: 0.9741837509491268\n",
            "Micro-average F1-score: 0.9707929782082324\n",
            "Macro-average Recall: 0.9684161897951646\n",
            "Macro-average F1-score: 0.9549092918647198\n",
            "Accuracy : 0.9644095913135273\n",
            "Micro-average Recall: 0.9749087591240876\n",
            "Micro-average F1-score: 0.97084879230711\n",
            "Macro-average Recall: 0.9744351115359875\n",
            "Macro-average F1-score: 0.9573958493137988\n",
            "Accuracy : 0.9573216709395265\n",
            "Micro-average Recall: 0.9748659003831418\n",
            "Micro-average F1-score: 0.9670112496199452\n",
            "Macro-average Recall: 0.9674434441843276\n",
            "Macro-average F1-score: 0.9523567352776443\n",
            "Accuracy : 0.9660684662946765\n",
            "Micro-average Recall: 0.9730139478471801\n",
            "Micro-average F1-score: 0.970439253043018\n",
            "Macro-average Recall: 0.9677610505467032\n",
            "Macro-average F1-score: 0.957603286978159\n",
            "Accuracy : 0.9615442618006333\n",
            "Micro-average Recall: 0.9740814148498247\n",
            "Micro-average F1-score: 0.9687642153146323\n",
            "Macro-average Recall: 0.9692345441541623\n",
            "Macro-average F1-score: 0.9519421265746292\n",
            "Accuracy : 0.963806364047655\n",
            "Micro-average Recall: 0.9742613463295766\n",
            "Micro-average F1-score: 0.969462756687126\n",
            "Macro-average Recall: 0.9712182306047277\n",
            "Macro-average F1-score: 0.9571863045640169\n",
            "Accuracy : 0.9666716935605489\n",
            "Micro-average Recall: 0.9745106964041875\n",
            "Micro-average F1-score: 0.971562547269702\n",
            "Macro-average Recall: 0.9705488931487243\n",
            "Macro-average F1-score: 0.9592705785161707\n",
            "Accuracy : 0.9663700799276127\n",
            "Micro-average Recall: 0.9753761969904241\n",
            "Micro-average F1-score: 0.9715367146101438\n",
            "Macro-average Recall: 0.9708348439853629\n",
            "Macro-average F1-score: 0.9600823490875244\n"
          ]
        }
      ]
    },
    {
      "cell_type": "code",
      "source": [
        "import matplotlib.pyplot as plt\n",
        "plt.plot(ACCURACY, EPOCH, marker='o')\n",
        "\n",
        "# Add labels and title\n",
        "plt.xlabel('NUM_EPOCHS')\n",
        "plt.ylabel('ACCURACY')\n",
        "plt.title('NUMBER OF EPOCHS VS ACCURACY')\n",
        "\n",
        "# Show grid\n",
        "plt.grid(True)\n",
        "\n",
        "# Show plot\n",
        "plt.show()"
      ],
      "metadata": {
        "colab": {
          "base_uri": "https://localhost:8080/",
          "height": 472
        },
        "id": "vgzaGH-7EAM0",
        "outputId": "2a60e7c7-43cc-4f39-8e04-ed84ff393910"
      },
      "execution_count": null,
      "outputs": [
        {
          "output_type": "display_data",
          "data": {
            "text/plain": [
              "<Figure size 640x480 with 1 Axes>"
            ],
            "image/png": "[encoded data removed]"
          },
          "metadata": {}
        }
      ]
    }
  ]
}